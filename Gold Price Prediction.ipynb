{
 "cells": [
  {
   "cell_type": "markdown",
   "metadata": {
    "id": "YID-dSNEkEi1"
   },
   "source": [
    "# Gold Price Prediction Using Machine Learning"
   ]
  },
  {
   "cell_type": "markdown",
   "metadata": {
    "id": "K9ORB0-skwLA"
   },
   "source": [
    "This Notebook deals with prediction of gold prices. The data contains features regarding the Gold Price Data."
   ]
  },
  {
   "cell_type": "markdown",
   "metadata": {
    "id": "JsN2AsOak_EA"
   },
   "source": [
    "## Objectives\n",
    "\n",
    "* The main goal of this notebook is to build a machine learning system that can predict GLD (gold) prices based on several other stock prices.\n",
    "* Obtain data insights using pandas.\n",
    "* Find the correlation of the other features with GLD (gold) stock price.\n",
    "* Predict the GLD (gold) price by splitting the data and evaluate the model."
   ]
  },
  {
   "cell_type": "markdown",
   "metadata": {
    "id": "0ldLbLOTi5JG"
   },
   "source": [
    "## ABOUT THE DATA\n",
    "\n",
    "* **Data Overview:** This data file is a Comma separated value(CSV) file format with 2290 rows and 7 columns. It contains 5 columns which are numerical in datatype and one column in Date format. Clearly, the data shows the value of the variables SPX, GLD, USO, SLV, EUR/USD against the dates in the date column.\n",
    "* Data Source: [Link](https://www.kaggle.com/altruistdelhite04/gold-price-data)\n",
    "* Data type available: .csv"
   ]
  },
  {
   "cell_type": "code",
   "execution_count": 2,
   "metadata": {
    "executionInfo": {
     "elapsed": 531,
     "status": "ok",
     "timestamp": 1630668139247,
     "user": {
      "displayName": "Swati Gulati",
      "photoUrl": "https://lh3.googleusercontent.com/a-/AOh14GjF_mn52f5ElOy7WNuOFascP1dAXfkVCYijZNRRmA=s64",
      "userId": "06925972998601594765"
     },
     "user_tz": -330
    },
    "id": "cZ5hnpRWgpYU"
   },
   "outputs": [],
   "source": [
    "# Import required libraries\n",
    "import pandas as pd                                          #Load data & perform basic operations\n",
    "import numpy as np                                           #Numpy Arrays\n",
    "import matplotlib.pyplot as plt                              #Matplotlib is a low level graph plotting library in python that serves as a visualization utility.\n",
    "import seaborn as sns                                        #Seaborn is a library that uses Matplotlib underneath to plot graphs. It will be used to visualize random distributions.\n",
    "from sklearn.model_selection import train_test_split         #Use to split the original data into training data & test data\n",
    "from sklearn.ensemble import RandomForestRegressor           #Import Random Forest Regression Model\n",
    "from sklearn import metrics                                  #Useful for finding performance of model"
   ]
  },
  {
   "cell_type": "markdown",
   "metadata": {
    "id": "O2j83FTgzKrY"
   },
   "source": [
    "1. Data Collection & processing"
   ]
  },
  {
   "cell_type": "code",
   "execution_count": 5,
   "metadata": {
    "executionInfo": {
     "elapsed": 38,
     "status": "ok",
     "timestamp": 1630668139931,
     "user": {
      "displayName": "Swati Gulati",
      "photoUrl": "https://lh3.googleusercontent.com/a-/AOh14GjF_mn52f5ElOy7WNuOFascP1dAXfkVCYijZNRRmA=s64",
      "userId": "06925972998601594765"
     },
     "user_tz": -330
    },
    "id": "72YNNI14wLhp"
   },
   "outputs": [],
   "source": [
    "# Loading the gold_price_data.csv data\n",
    "gold_price = pd.read_csv(\"gld_price_data.csv\")"
   ]
  },
  {
   "cell_type": "code",
   "execution_count": 6,
   "metadata": {
    "colab": {
     "base_uri": "https://localhost:8080/",
     "height": 419
    },
    "executionInfo": {
     "elapsed": 44,
     "status": "ok",
     "timestamp": 1630668139939,
     "user": {
      "displayName": "Swati Gulati",
      "photoUrl": "https://lh3.googleusercontent.com/a-/AOh14GjF_mn52f5ElOy7WNuOFascP1dAXfkVCYijZNRRmA=s64",
      "userId": "06925972998601594765"
     },
     "user_tz": -330
    },
    "id": "S-0vZWISzsqB",
    "outputId": "b76f4eec-63ce-41ce-b208-7d4e51cb91c7"
   },
   "outputs": [
    {
     "data": {
      "text/html": [
       "<div>\n",
       "<style scoped>\n",
       "    .dataframe tbody tr th:only-of-type {\n",
       "        vertical-align: middle;\n",
       "    }\n",
       "\n",
       "    .dataframe tbody tr th {\n",
       "        vertical-align: top;\n",
       "    }\n",
       "\n",
       "    .dataframe thead th {\n",
       "        text-align: right;\n",
       "    }\n",
       "</style>\n",
       "<table border=\"1\" class=\"dataframe\">\n",
       "  <thead>\n",
       "    <tr style=\"text-align: right;\">\n",
       "      <th></th>\n",
       "      <th>Date</th>\n",
       "      <th>SPX</th>\n",
       "      <th>GLD</th>\n",
       "      <th>USO</th>\n",
       "      <th>SLV</th>\n",
       "      <th>EUR/USD</th>\n",
       "    </tr>\n",
       "  </thead>\n",
       "  <tbody>\n",
       "    <tr>\n",
       "      <th>0</th>\n",
       "      <td>1/2/2008</td>\n",
       "      <td>1447.160034</td>\n",
       "      <td>84.860001</td>\n",
       "      <td>78.470001</td>\n",
       "      <td>15.1800</td>\n",
       "      <td>1.471692</td>\n",
       "    </tr>\n",
       "    <tr>\n",
       "      <th>1</th>\n",
       "      <td>1/3/2008</td>\n",
       "      <td>1447.160034</td>\n",
       "      <td>85.570000</td>\n",
       "      <td>78.370003</td>\n",
       "      <td>15.2850</td>\n",
       "      <td>1.474491</td>\n",
       "    </tr>\n",
       "    <tr>\n",
       "      <th>2</th>\n",
       "      <td>1/4/2008</td>\n",
       "      <td>1411.630005</td>\n",
       "      <td>85.129997</td>\n",
       "      <td>77.309998</td>\n",
       "      <td>15.1670</td>\n",
       "      <td>1.475492</td>\n",
       "    </tr>\n",
       "    <tr>\n",
       "      <th>3</th>\n",
       "      <td>1/7/2008</td>\n",
       "      <td>1416.180054</td>\n",
       "      <td>84.769997</td>\n",
       "      <td>75.500000</td>\n",
       "      <td>15.0530</td>\n",
       "      <td>1.468299</td>\n",
       "    </tr>\n",
       "    <tr>\n",
       "      <th>4</th>\n",
       "      <td>1/8/2008</td>\n",
       "      <td>1390.189941</td>\n",
       "      <td>86.779999</td>\n",
       "      <td>76.059998</td>\n",
       "      <td>15.5900</td>\n",
       "      <td>1.557099</td>\n",
       "    </tr>\n",
       "    <tr>\n",
       "      <th>...</th>\n",
       "      <td>...</td>\n",
       "      <td>...</td>\n",
       "      <td>...</td>\n",
       "      <td>...</td>\n",
       "      <td>...</td>\n",
       "      <td>...</td>\n",
       "    </tr>\n",
       "    <tr>\n",
       "      <th>2285</th>\n",
       "      <td>5/8/2018</td>\n",
       "      <td>2671.919922</td>\n",
       "      <td>124.589996</td>\n",
       "      <td>14.060000</td>\n",
       "      <td>15.5100</td>\n",
       "      <td>1.186789</td>\n",
       "    </tr>\n",
       "    <tr>\n",
       "      <th>2286</th>\n",
       "      <td>5/9/2018</td>\n",
       "      <td>2697.790039</td>\n",
       "      <td>124.330002</td>\n",
       "      <td>14.370000</td>\n",
       "      <td>15.5300</td>\n",
       "      <td>1.184722</td>\n",
       "    </tr>\n",
       "    <tr>\n",
       "      <th>2287</th>\n",
       "      <td>5/10/2018</td>\n",
       "      <td>2723.070068</td>\n",
       "      <td>125.180000</td>\n",
       "      <td>14.410000</td>\n",
       "      <td>15.7400</td>\n",
       "      <td>1.191753</td>\n",
       "    </tr>\n",
       "    <tr>\n",
       "      <th>2288</th>\n",
       "      <td>5/14/2018</td>\n",
       "      <td>2730.129883</td>\n",
       "      <td>124.489998</td>\n",
       "      <td>14.380000</td>\n",
       "      <td>15.5600</td>\n",
       "      <td>1.193118</td>\n",
       "    </tr>\n",
       "    <tr>\n",
       "      <th>2289</th>\n",
       "      <td>5/16/2018</td>\n",
       "      <td>2725.780029</td>\n",
       "      <td>122.543800</td>\n",
       "      <td>14.405800</td>\n",
       "      <td>15.4542</td>\n",
       "      <td>1.182033</td>\n",
       "    </tr>\n",
       "  </tbody>\n",
       "</table>\n",
       "<p>2290 rows × 6 columns</p>\n",
       "</div>"
      ],
      "text/plain": [
       "           Date          SPX         GLD        USO      SLV   EUR/USD\n",
       "0      1/2/2008  1447.160034   84.860001  78.470001  15.1800  1.471692\n",
       "1      1/3/2008  1447.160034   85.570000  78.370003  15.2850  1.474491\n",
       "2      1/4/2008  1411.630005   85.129997  77.309998  15.1670  1.475492\n",
       "3      1/7/2008  1416.180054   84.769997  75.500000  15.0530  1.468299\n",
       "4      1/8/2008  1390.189941   86.779999  76.059998  15.5900  1.557099\n",
       "...         ...          ...         ...        ...      ...       ...\n",
       "2285   5/8/2018  2671.919922  124.589996  14.060000  15.5100  1.186789\n",
       "2286   5/9/2018  2697.790039  124.330002  14.370000  15.5300  1.184722\n",
       "2287  5/10/2018  2723.070068  125.180000  14.410000  15.7400  1.191753\n",
       "2288  5/14/2018  2730.129883  124.489998  14.380000  15.5600  1.193118\n",
       "2289  5/16/2018  2725.780029  122.543800  14.405800  15.4542  1.182033\n",
       "\n",
       "[2290 rows x 6 columns]"
      ]
     },
     "execution_count": 6,
     "metadata": {},
     "output_type": "execute_result"
    }
   ],
   "source": [
    "# View top 5 & last 5 rows\n",
    "gold_price"
   ]
  },
  {
   "cell_type": "markdown",
   "metadata": {
    "id": "CAJbW1qs0EgZ"
   },
   "source": [
    " Data consists of various GLD (gold) prices for several days in the period of 10 years [Date- MM/DD/YYYY].\n",
    "\n",
    "* **SPX -** The Standard and Poor's 500, or simply the S&P 500, is a stock market index tracking the performance of 500 large companies listed on stock exchanges in the United States.\n",
    "* **GLD -** SPDR Gold Shares is part of the SPDR family of exchange-traded funds (ETF) managed and marketed by State Street Global Advisors.\n",
    "* **USO -** The United States Oil Fund ® LP (USO) is an exchange-traded security whose shares may be purchased and sold on the NYSE Arca.\n",
    "* **SLV -** The iShares Silver Trust (SLV) is an exchange traded fund (ETF) that tracks the price performance of the underlying holdings in the LMBA Silver Price.\n",
    "* **EUR/USD -** The Currency Pair EUR/USD is the shortened term for the euro against U.S. dollar pair, or cross for the currencies of the European Union (EU) and the United States (USD). The value of the EUR/USD pair is quoted as 1 euro per x U.S. dollars. For example, if the pair is trading at 1.50, it means it takes 1.5 U.S. dollars to buy 1 euro."
   ]
  },
  {
   "cell_type": "code",
   "execution_count": 7,
   "metadata": {
    "colab": {
     "base_uri": "https://localhost:8080/"
    },
    "executionInfo": {
     "elapsed": 44,
     "status": "ok",
     "timestamp": 1630668139941,
     "user": {
      "displayName": "Swati Gulati",
      "photoUrl": "https://lh3.googleusercontent.com/a-/AOh14GjF_mn52f5ElOy7WNuOFascP1dAXfkVCYijZNRRmA=s64",
      "userId": "06925972998601594765"
     },
     "user_tz": -330
    },
    "id": "iiwLOS3uzsl3",
    "outputId": "0d35af28-fe5d-46ce-9da5-a47b1d4d7add"
   },
   "outputs": [
    {
     "data": {
      "text/plain": [
       "(2290, 6)"
      ]
     },
     "execution_count": 7,
     "metadata": {},
     "output_type": "execute_result"
    }
   ],
   "source": [
    "# Number of rows & columns\n",
    "gold_price.shape"
   ]
  },
  {
   "cell_type": "code",
   "execution_count": 8,
   "metadata": {
    "colab": {
     "base_uri": "https://localhost:8080/"
    },
    "executionInfo": {
     "elapsed": 43,
     "status": "ok",
     "timestamp": 1630668139945,
     "user": {
      "displayName": "Swati Gulati",
      "photoUrl": "https://lh3.googleusercontent.com/a-/AOh14GjF_mn52f5ElOy7WNuOFascP1dAXfkVCYijZNRRmA=s64",
      "userId": "06925972998601594765"
     },
     "user_tz": -330
    },
    "id": "56EjSIwwzsh3",
    "outputId": "3d388454-b144-4568-a864-7138cd4c273b"
   },
   "outputs": [
    {
     "name": "stdout",
     "output_type": "stream",
     "text": [
      "<class 'pandas.core.frame.DataFrame'>\n",
      "RangeIndex: 2290 entries, 0 to 2289\n",
      "Data columns (total 6 columns):\n",
      " #   Column   Non-Null Count  Dtype  \n",
      "---  ------   --------------  -----  \n",
      " 0   Date     2290 non-null   object \n",
      " 1   SPX      2290 non-null   float64\n",
      " 2   GLD      2290 non-null   float64\n",
      " 3   USO      2290 non-null   float64\n",
      " 4   SLV      2290 non-null   float64\n",
      " 5   EUR/USD  2290 non-null   float64\n",
      "dtypes: float64(5), object(1)\n",
      "memory usage: 107.5+ KB\n"
     ]
    }
   ],
   "source": [
    "# Getting some basic info\n",
    "gold_price.info()"
   ]
  },
  {
   "cell_type": "code",
   "execution_count": 9,
   "metadata": {
    "colab": {
     "base_uri": "https://localhost:8080/"
    },
    "executionInfo": {
     "elapsed": 44,
     "status": "ok",
     "timestamp": 1630668139950,
     "user": {
      "displayName": "Swati Gulati",
      "photoUrl": "https://lh3.googleusercontent.com/a-/AOh14GjF_mn52f5ElOy7WNuOFascP1dAXfkVCYijZNRRmA=s64",
      "userId": "06925972998601594765"
     },
     "user_tz": -330
    },
    "id": "JZo89vJbzsex",
    "outputId": "b31d311d-fe7b-4b39-fd0a-1c28af1ced86"
   },
   "outputs": [
    {
     "data": {
      "text/plain": [
       "Date       0\n",
       "SPX        0\n",
       "GLD        0\n",
       "USO        0\n",
       "SLV        0\n",
       "EUR/USD    0\n",
       "dtype: int64"
      ]
     },
     "execution_count": 9,
     "metadata": {},
     "output_type": "execute_result"
    }
   ],
   "source": [
    "# Checking number of missing values\n",
    "gold_price.isnull().sum()"
   ]
  },
  {
   "cell_type": "markdown",
   "metadata": {
    "id": "n8AEPxHY6XFq"
   },
   "source": [
    "Data does not contain any missing values"
   ]
  },
  {
   "cell_type": "code",
   "execution_count": 18,
   "metadata": {
    "colab": {
     "base_uri": "https://localhost:8080/",
     "height": 297
    },
    "executionInfo": {
     "elapsed": 42,
     "status": "ok",
     "timestamp": 1630668139952,
     "user": {
      "displayName": "Swati Gulati",
      "photoUrl": "https://lh3.googleusercontent.com/a-/AOh14GjF_mn52f5ElOy7WNuOFascP1dAXfkVCYijZNRRmA=s64",
      "userId": "06925972998601594765"
     },
     "user_tz": -330
    },
    "id": "j1yVCINhp8x1",
    "outputId": "191b4e28-0c8b-47dc-d33c-8e867eaf2f60"
   },
   "outputs": [
    {
     "data": {
      "text/html": [
       "<div>\n",
       "<style scoped>\n",
       "    .dataframe tbody tr th:only-of-type {\n",
       "        vertical-align: middle;\n",
       "    }\n",
       "\n",
       "    .dataframe tbody tr th {\n",
       "        vertical-align: top;\n",
       "    }\n",
       "\n",
       "    .dataframe thead th {\n",
       "        text-align: right;\n",
       "    }\n",
       "</style>\n",
       "<table border=\"1\" class=\"dataframe\">\n",
       "  <thead>\n",
       "    <tr style=\"text-align: right;\">\n",
       "      <th></th>\n",
       "      <th>SPX</th>\n",
       "      <th>GLD</th>\n",
       "      <th>USO</th>\n",
       "      <th>SLV</th>\n",
       "      <th>EUR/USD</th>\n",
       "    </tr>\n",
       "  </thead>\n",
       "  <tbody>\n",
       "    <tr>\n",
       "      <th>count</th>\n",
       "      <td>2290.000000</td>\n",
       "      <td>2290.000000</td>\n",
       "      <td>2290.000000</td>\n",
       "      <td>2290.000000</td>\n",
       "      <td>2290.000000</td>\n",
       "    </tr>\n",
       "    <tr>\n",
       "      <th>mean</th>\n",
       "      <td>1654.315776</td>\n",
       "      <td>122.732875</td>\n",
       "      <td>31.842221</td>\n",
       "      <td>20.084997</td>\n",
       "      <td>1.283653</td>\n",
       "    </tr>\n",
       "    <tr>\n",
       "      <th>std</th>\n",
       "      <td>519.111540</td>\n",
       "      <td>23.283346</td>\n",
       "      <td>19.523517</td>\n",
       "      <td>7.092566</td>\n",
       "      <td>0.131547</td>\n",
       "    </tr>\n",
       "    <tr>\n",
       "      <th>min</th>\n",
       "      <td>676.530029</td>\n",
       "      <td>70.000000</td>\n",
       "      <td>7.960000</td>\n",
       "      <td>8.850000</td>\n",
       "      <td>1.039047</td>\n",
       "    </tr>\n",
       "    <tr>\n",
       "      <th>25%</th>\n",
       "      <td>1239.874969</td>\n",
       "      <td>109.725000</td>\n",
       "      <td>14.380000</td>\n",
       "      <td>15.570000</td>\n",
       "      <td>1.171313</td>\n",
       "    </tr>\n",
       "    <tr>\n",
       "      <th>50%</th>\n",
       "      <td>1551.434998</td>\n",
       "      <td>120.580002</td>\n",
       "      <td>33.869999</td>\n",
       "      <td>17.268500</td>\n",
       "      <td>1.303297</td>\n",
       "    </tr>\n",
       "    <tr>\n",
       "      <th>75%</th>\n",
       "      <td>2073.010070</td>\n",
       "      <td>132.840004</td>\n",
       "      <td>37.827501</td>\n",
       "      <td>22.882500</td>\n",
       "      <td>1.369971</td>\n",
       "    </tr>\n",
       "    <tr>\n",
       "      <th>max</th>\n",
       "      <td>2872.870117</td>\n",
       "      <td>184.589996</td>\n",
       "      <td>117.480003</td>\n",
       "      <td>47.259998</td>\n",
       "      <td>1.598798</td>\n",
       "    </tr>\n",
       "  </tbody>\n",
       "</table>\n",
       "</div>"
      ],
      "text/plain": [
       "               SPX          GLD          USO          SLV      EUR/USD\n",
       "count  2290.000000  2290.000000  2290.000000  2290.000000  2290.000000\n",
       "mean   1654.315776   122.732875    31.842221    20.084997     1.283653\n",
       "std     519.111540    23.283346    19.523517     7.092566     0.131547\n",
       "min     676.530029    70.000000     7.960000     8.850000     1.039047\n",
       "25%    1239.874969   109.725000    14.380000    15.570000     1.171313\n",
       "50%    1551.434998   120.580002    33.869999    17.268500     1.303297\n",
       "75%    2073.010070   132.840004    37.827501    22.882500     1.369971\n",
       "max    2872.870117   184.589996   117.480003    47.259998     1.598798"
      ]
     },
     "execution_count": 18,
     "metadata": {},
     "output_type": "execute_result"
    }
   ],
   "source": [
    "# Getting statistical measures of the data\n",
    "gold_price.describe()"
   ]
  },
  {
   "cell_type": "markdown",
   "metadata": {
    "id": "P7iIM9tEACqS"
   },
   "source": [
    "2. Correlation:\n",
    "\n",
    "* **Positive Correlation -** Are cases, if 1 value increases other value also increases. A correlation of *1.0 indicates a perfect positive correlation.*\n",
    "* **Negative Correlation -** Are cases, if 1 value increases other value decreases. A correlation of *-1.0 indicates a perfect negative correlation.*\n",
    "* **Zero Correlation -** A value of *zero indicates that there is no relationship between the two variables.*"
   ]
  },
  {
   "cell_type": "code",
   "execution_count": 28,
   "metadata": {
    "executionInfo": {
     "elapsed": 42,
     "status": "ok",
     "timestamp": 1630668139954,
     "user": {
      "displayName": "Swati Gulati",
      "photoUrl": "https://lh3.googleusercontent.com/a-/AOh14GjF_mn52f5ElOy7WNuOFascP1dAXfkVCYijZNRRmA=s64",
      "userId": "06925972998601594765"
     },
     "user_tz": -330
    },
    "id": "k-xLjWswHGFi"
   },
   "outputs": [
    {
     "name": "stdout",
     "output_type": "stream",
     "text": [
      "Correlation Matrix:\n",
      "              SPX       GLD       USO       SLV   EUR/USD\n",
      "SPX      1.000000  0.049345 -0.591573 -0.274055 -0.672017\n",
      "GLD      0.049345  1.000000 -0.186360  0.866632 -0.024375\n",
      "USO     -0.591573 -0.186360  1.000000  0.167547  0.829317\n",
      "SLV     -0.274055  0.866632  0.167547  1.000000  0.321631\n",
      "EUR/USD -0.672017 -0.024375  0.829317  0.321631  1.000000\n"
     ]
    },
    {
     "data": {
      "image/png": "[encoded data removed]",
      "text/plain": [
       "<Figure size 640x480 with 2 Axes>"
      ]
     },
     "metadata": {},
     "output_type": "display_data"
    }
   ],
   "source": [
    "import pandas as pd\n",
    "import seaborn as sns\n",
    "import matplotlib.pyplot as plt\n",
    "\n",
    "# Assuming 'gold_price' is the name of your DataFrame\n",
    "# If not, replace 'gold_price' with the actual name of your DataFrame\n",
    "\n",
    "# Convert 'Date' column to datetime type\n",
    "gold_price['Date'] = pd.to_datetime(gold_price['Date'], errors='coerce')\n",
    "\n",
    "# Calculate correlation matrix excluding non-numeric columns\n",
    "correlation = gold_price.select_dtypes(include=['float64', 'int64']).corr()\n",
    "\n",
    "# Displaying the correlation matrix\n",
    "print(\"Correlation Matrix:\")\n",
    "print(correlation)\n",
    "\n",
    "# Using a heatmap for visualization\n",
    "sns.heatmap(correlation, annot=True, cmap='coolwarm', fmt=\".2f\")\n",
    "plt.title('Correlation Matrix')\n",
    "plt.show()\n"
   ]
  },
  {
   "cell_type": "code",
   "execution_count": 29,
   "metadata": {
    "colab": {
     "base_uri": "https://localhost:8080/",
     "height": 487
    },
    "executionInfo": {
     "elapsed": 983,
     "status": "ok",
     "timestamp": 1630668140896,
     "user": {
      "displayName": "Swati Gulati",
      "photoUrl": "https://lh3.googleusercontent.com/a-/AOh14GjF_mn52f5ElOy7WNuOFascP1dAXfkVCYijZNRRmA=s64",
      "userId": "06925972998601594765"
     },
     "user_tz": -330
    },
    "id": "ICwrlJK5BSWV",
    "outputId": "fc6bf25d-29db-43e8-9244-928ceb257d71"
   },
   "outputs": [
    {
     "data": {
      "image/png": "[encoded data removed]",
      "text/plain": [
       "<Figure size 800x800 with 2 Axes>"
      ]
     },
     "metadata": {},
     "output_type": "display_data"
    }
   ],
   "source": [
    "# Assuming 'gold_price' is the name of your DataFrame\n",
    "# If not, replace 'gold_price' with the actual name of your DataFrame\n",
    "\n",
    "# Convert 'Date' column to datetime type\n",
    "gold_price['Date'] = pd.to_datetime(gold_price['Date'], errors='coerce')\n",
    "\n",
    "# Calculate correlation matrix excluding non-numeric columns\n",
    "correlation = gold_price.select_dtypes(include=['float64', 'int64']).corr()\n",
    "\n",
    "# Constructing a heatmap to understand the values\n",
    "plt.figure(figsize=(8, 8))\n",
    "sns.heatmap(correlation, cbar=True, square=True, fmt=\".1f\", annot=True, annot_kws={'size': 8}, cmap=\"Greens\")\n",
    "plt.title('Correlation Matrix Heatmap')\n",
    "plt.show()\n"
   ]
  },
  {
   "cell_type": "markdown",
   "metadata": {
    "id": "KlsU0K8jLTpA"
   },
   "source": [
    "Conclusion:\n",
    "\n",
    "* Gold (GLD) and silver (SLV) are highly corelated to each other -> 0.9\n",
    "* Gold (GLD) and Standard and Poor's 500 (SPX) are zero correlation -> 0.0\n",
    "* Rest features expect gold (GLD) are negative correlated with respect to gold (GLD) -> -0.0 & -0.2"
   ]
  },
  {
   "cell_type": "code",
   "execution_count": 30,
   "metadata": {
    "colab": {
     "base_uri": "https://localhost:8080/"
    },
    "executionInfo": {
     "elapsed": 39,
     "status": "ok",
     "timestamp": 1630668140898,
     "user": {
      "displayName": "Swati Gulati",
      "photoUrl": "https://lh3.googleusercontent.com/a-/AOh14GjF_mn52f5ElOy7WNuOFascP1dAXfkVCYijZNRRmA=s64",
      "userId": "06925972998601594765"
     },
     "user_tz": -330
    },
    "id": "NeHG0cB46id-",
    "outputId": "1ad0865f-a239-4ec3-fc23-1fcd1474545c"
   },
   "outputs": [
    {
     "data": {
      "text/plain": [
       "SPX        0.049345\n",
       "GLD        1.000000\n",
       "USO       -0.186360\n",
       "SLV        0.866632\n",
       "EUR/USD   -0.024375\n",
       "Name: GLD, dtype: float64"
      ]
     },
     "execution_count": 30,
     "metadata": {},
     "output_type": "execute_result"
    }
   ],
   "source": [
    "# Correlation values of GLD (gold)\n",
    "correlation['GLD']"
   ]
  },
  {
   "cell_type": "code",
   "execution_count": 34,
   "metadata": {
    "colab": {
     "base_uri": "https://localhost:8080/",
     "height": 354
    },
    "executionInfo": {
     "elapsed": 36,
     "status": "ok",
     "timestamp": 1630668140899,
     "user": {
      "displayName": "Swati Gulati",
      "photoUrl": "https://lh3.googleusercontent.com/a-/AOh14GjF_mn52f5ElOy7WNuOFascP1dAXfkVCYijZNRRmA=s64",
      "userId": "06925972998601594765"
     },
     "user_tz": -330
    },
    "id": "WI4TDR7HIRzQ",
    "outputId": "eec42586-1942-4510-a65c-ff1fa054c6c4"
   },
   "outputs": [
    {
     "data": {
      "image/png": "[encoded data removed]",
      "text/plain": [
       "<Figure size 640x480 with 1 Axes>"
      ]
     },
     "metadata": {},
     "output_type": "display_data"
    }
   ],
   "source": [
    "# Checking the distribution of GLD price using histplot\n",
    "sns.histplot(gold_price[\"GLD\"], kde=True, color=\"Red\")\n",
    "plt.show()"
   ]
  },
  {
   "cell_type": "markdown",
   "metadata": {
    "id": "L-52cYhkP8by"
   },
   "source": [
    "From Distribution Plot, I conclude that most of the values lie in the range of 120, and less values lie in 90 and 180 & bump in 100 and near 140."
   ]
  },
  {
   "cell_type": "code",
   "execution_count": 35,
   "metadata": {
    "executionInfo": {
     "elapsed": 33,
     "status": "ok",
     "timestamp": 1630668140901,
     "user": {
      "displayName": "Swati Gulati",
      "photoUrl": "https://lh3.googleusercontent.com/a-/AOh14GjF_mn52f5ElOy7WNuOFascP1dAXfkVCYijZNRRmA=s64",
      "userId": "06925972998601594765"
     },
     "user_tz": -330
    },
    "id": "jBzBXcbLFrpS"
   },
   "outputs": [],
   "source": [
    "# !pip install pandas-profiling      (we can quickly do an EDA and generate EDA report)\n",
    "# from pandas_profiling import ProfileReport"
   ]
  },
  {
   "cell_type": "markdown",
   "metadata": {
    "id": "QrSvFpPERC8R"
   },
   "source": [
    "3. Splitting the Features and Target\n",
    "\n",
    "* Traget - GLD (gold) price stock\n",
    "\n",
    "* Features - Other stocks"
   ]
  },
  {
   "cell_type": "code",
   "execution_count": 36,
   "metadata": {
    "executionInfo": {
     "elapsed": 34,
     "status": "ok",
     "timestamp": 1630668140903,
     "user": {
      "displayName": "Swati Gulati",
      "photoUrl": "https://lh3.googleusercontent.com/a-/AOh14GjF_mn52f5ElOy7WNuOFascP1dAXfkVCYijZNRRmA=s64",
      "userId": "06925972998601594765"
     },
     "user_tz": -330
    },
    "id": "NrOJ4Dl4PeAW"
   },
   "outputs": [],
   "source": [
    "# axis = 1 (Columns)\n",
    "# axis = 0 (Rows)\n",
    "X = gold_price.drop([\"Date\", \"GLD\"], axis = 1)\n",
    "Y = gold_price[\"GLD\"]"
   ]
  },
  {
   "cell_type": "code",
   "execution_count": 37,
   "metadata": {
    "colab": {
     "base_uri": "https://localhost:8080/"
    },
    "executionInfo": {
     "elapsed": 35,
     "status": "ok",
     "timestamp": 1630668140905,
     "user": {
      "displayName": "Swati Gulati",
      "photoUrl": "https://lh3.googleusercontent.com/a-/AOh14GjF_mn52f5ElOy7WNuOFascP1dAXfkVCYijZNRRmA=s64",
      "userId": "06925972998601594765"
     },
     "user_tz": -330
    },
    "id": "2IgjOCS3SVCS",
    "outputId": "ea731cea-47d7-4cc8-a30f-19f11ec51214"
   },
   "outputs": [
    {
     "name": "stdout",
     "output_type": "stream",
     "text": [
      "              SPX        USO      SLV   EUR/USD\n",
      "0     1447.160034  78.470001  15.1800  1.471692\n",
      "1     1447.160034  78.370003  15.2850  1.474491\n",
      "2     1411.630005  77.309998  15.1670  1.475492\n",
      "3     1416.180054  75.500000  15.0530  1.468299\n",
      "4     1390.189941  76.059998  15.5900  1.557099\n",
      "...           ...        ...      ...       ...\n",
      "2285  2671.919922  14.060000  15.5100  1.186789\n",
      "2286  2697.790039  14.370000  15.5300  1.184722\n",
      "2287  2723.070068  14.410000  15.7400  1.191753\n",
      "2288  2730.129883  14.380000  15.5600  1.193118\n",
      "2289  2725.780029  14.405800  15.4542  1.182033\n",
      "\n",
      "[2290 rows x 4 columns] Remove two columns-> Date & GLD\n"
     ]
    }
   ],
   "source": [
    "print(X, \"Remove two columns-> Date & GLD\")"
   ]
  },
  {
   "cell_type": "code",
   "execution_count": 38,
   "metadata": {
    "colab": {
     "base_uri": "https://localhost:8080/"
    },
    "executionInfo": {
     "elapsed": 32,
     "status": "ok",
     "timestamp": 1630668140906,
     "user": {
      "displayName": "Swati Gulati",
      "photoUrl": "https://lh3.googleusercontent.com/a-/AOh14GjF_mn52f5ElOy7WNuOFascP1dAXfkVCYijZNRRmA=s64",
      "userId": "06925972998601594765"
     },
     "user_tz": -330
    },
    "id": "7Du3hlIGSb7g",
    "outputId": "b949dd20-46f1-4975-a8f9-a65af8440484"
   },
   "outputs": [
    {
     "name": "stdout",
     "output_type": "stream",
     "text": [
      "0        84.860001\n",
      "1        85.570000\n",
      "2        85.129997\n",
      "3        84.769997\n",
      "4        86.779999\n",
      "           ...    \n",
      "2285    124.589996\n",
      "2286    124.330002\n",
      "2287    125.180000\n",
      "2288    124.489998\n",
      "2289    122.543800\n",
      "Name: GLD, Length: 2290, dtype: float64 Y contains GLD prices\n"
     ]
    }
   ],
   "source": [
    "print(Y, \"Y contains GLD prices\")"
   ]
  },
  {
   "cell_type": "markdown",
   "metadata": {
    "id": "oenQOwpRSsfH"
   },
   "source": [
    "Use other 4 stocks (SPX, USO, SLV, EUR/USD) to predict (GLD) gold price"
   ]
  },
  {
   "cell_type": "markdown",
   "metadata": {
    "id": "D1NxetUhEzdq"
   },
   "source": [
    "Spliting The Data Into Training Data & Test Data "
   ]
  },
  {
   "cell_type": "code",
   "execution_count": 39,
   "metadata": {
    "executionInfo": {
     "elapsed": 30,
     "status": "ok",
     "timestamp": 1630668140908,
     "user": {
      "displayName": "Swati Gulati",
      "photoUrl": "https://lh3.googleusercontent.com/a-/AOh14GjF_mn52f5ElOy7WNuOFascP1dAXfkVCYijZNRRmA=s64",
      "userId": "06925972998601594765"
     },
     "user_tz": -330
    },
    "id": "rifCKjJ_SrZJ"
   },
   "outputs": [],
   "source": [
    "X_train, X_test, Y_train, Y_test = train_test_split(X, Y, test_size = 0.2, random_state = 2)"
   ]
  },
  {
   "cell_type": "markdown",
   "metadata": {
    "id": "2_va17sVPBgi"
   },
   "source": [
    "Model Training: Random Forest Regressor\n",
    "\n",
    "* Random forest is an ensemble of decision trees. This is to say that many trees, constructed in a certain “random” way form a Random Forest. \n",
    "* Each tree is created from a different sample of rows and at each node, a different sample of features is selected for splitting. \n",
    "* Each of the trees makes its own individual prediction. \n",
    "* These predictions are then averaged to produce a single result."
   ]
  },
  {
   "cell_type": "code",
   "execution_count": 40,
   "metadata": {
    "executionInfo": {
     "elapsed": 32,
     "status": "ok",
     "timestamp": 1630668140911,
     "user": {
      "displayName": "Swati Gulati",
      "photoUrl": "https://lh3.googleusercontent.com/a-/AOh14GjF_mn52f5ElOy7WNuOFascP1dAXfkVCYijZNRRmA=s64",
      "userId": "06925972998601594765"
     },
     "user_tz": -330
    },
    "id": "hpWUJRuiMBNw"
   },
   "outputs": [],
   "source": [
    "regressor = RandomForestRegressor(n_estimators=100)       #default no."
   ]
  },
  {
   "cell_type": "code",
   "execution_count": 41,
   "metadata": {
    "colab": {
     "base_uri": "https://localhost:8080/"
    },
    "executionInfo": {
     "elapsed": 1244,
     "status": "ok",
     "timestamp": 1630668142124,
     "user": {
      "displayName": "Swati Gulati",
      "photoUrl": "https://lh3.googleusercontent.com/a-/AOh14GjF_mn52f5ElOy7WNuOFascP1dAXfkVCYijZNRRmA=s64",
      "userId": "06925972998601594765"
     },
     "user_tz": -330
    },
    "id": "Aps523pBLqnJ",
    "outputId": "7196be6f-0dc1-4e84-82fc-021b223f9278"
   },
   "outputs": [
    {
     "data": {
      "text/html": [
       "<style>#sk-container-id-1 {color: black;}#sk-container-id-1 pre{padding: 0;}#sk-container-id-1 div.sk-toggleable {background-color: white;}#sk-container-id-1 label.sk-toggleable__label {cursor: pointer;display: block;width: 100%;margin-bottom: 0;padding: 0.3em;box-sizing: border-box;text-align: center;}#sk-container-id-1 label.sk-toggleable__label-arrow:before {content: \"▸\";float: left;margin-right: 0.25em;color: #696969;}#sk-container-id-1 label.sk-toggleable__label-arrow:hover:before {color: black;}#sk-container-id-1 div.sk-estimator:hover label.sk-toggleable__label-arrow:before {color: black;}#sk-container-id-1 div.sk-toggleable__content {max-height: 0;max-width: 0;overflow: hidden;text-align: left;background-color: #f0f8ff;}#sk-container-id-1 div.sk-toggleable__content pre {margin: 0.2em;color: black;border-radius: 0.25em;background-color: #f0f8ff;}#sk-container-id-1 input.sk-toggleable__control:checked~div.sk-toggleable__content {max-height: 200px;max-width: 100%;overflow: auto;}#sk-container-id-1 input.sk-toggleable__control:checked~label.sk-toggleable__label-arrow:before {content: \"▾\";}#sk-container-id-1 div.sk-estimator input.sk-toggleable__control:checked~label.sk-toggleable__label {background-color: #d4ebff;}#sk-container-id-1 div.sk-label input.sk-toggleable__control:checked~label.sk-toggleable__label {background-color: #d4ebff;}#sk-container-id-1 input.sk-hidden--visually {border: 0;clip: rect(1px 1px 1px 1px);clip: rect(1px, 1px, 1px, 1px);height: 1px;margin: -1px;overflow: hidden;padding: 0;position: absolute;width: 1px;}#sk-container-id-1 div.sk-estimator {font-family: monospace;background-color: #f0f8ff;border: 1px dotted black;border-radius: 0.25em;box-sizing: border-box;margin-bottom: 0.5em;}#sk-container-id-1 div.sk-estimator:hover {background-color: #d4ebff;}#sk-container-id-1 div.sk-parallel-item::after {content: \"\";width: 100%;border-bottom: 1px solid gray;flex-grow: 1;}#sk-container-id-1 div.sk-label:hover label.sk-toggleable__label {background-color: #d4ebff;}#sk-container-id-1 div.sk-serial::before {content: \"\";position: absolute;border-left: 1px solid gray;box-sizing: border-box;top: 0;bottom: 0;left: 50%;z-index: 0;}#sk-container-id-1 div.sk-serial {display: flex;flex-direction: column;align-items: center;background-color: white;padding-right: 0.2em;padding-left: 0.2em;position: relative;}#sk-container-id-1 div.sk-item {position: relative;z-index: 1;}#sk-container-id-1 div.sk-parallel {display: flex;align-items: stretch;justify-content: center;background-color: white;position: relative;}#sk-container-id-1 div.sk-item::before, #sk-container-id-1 div.sk-parallel-item::before {content: \"\";position: absolute;border-left: 1px solid gray;box-sizing: border-box;top: 0;bottom: 0;left: 50%;z-index: -1;}#sk-container-id-1 div.sk-parallel-item {display: flex;flex-direction: column;z-index: 1;position: relative;background-color: white;}#sk-container-id-1 div.sk-parallel-item:first-child::after {align-self: flex-end;width: 50%;}#sk-container-id-1 div.sk-parallel-item:last-child::after {align-self: flex-start;width: 50%;}#sk-container-id-1 div.sk-parallel-item:only-child::after {width: 0;}#sk-container-id-1 div.sk-dashed-wrapped {border: 1px dashed gray;margin: 0 0.4em 0.5em 0.4em;box-sizing: border-box;padding-bottom: 0.4em;background-color: white;}#sk-container-id-1 div.sk-label label {font-family: monospace;font-weight: bold;display: inline-block;line-height: 1.2em;}#sk-container-id-1 div.sk-label-container {text-align: center;}#sk-container-id-1 div.sk-container {/* jupyter's `normalize.less` sets `[hidden] { display: none; }` but bootstrap.min.css set `[hidden] { display: none !important; }` so we also need the `!important` here to be able to override the default hidden behavior on the sphinx rendered scikit-learn.org. See: https://github.com/scikit-learn/scikit-learn/issues/21755 */display: inline-block !important;position: relative;}#sk-container-id-1 div.sk-text-repr-fallback {display: none;}</style><div id=\"sk-container-id-1\" class=\"sk-top-container\"><div class=\"sk-text-repr-fallback\"><pre>RandomForestRegressor()</pre><b>In a Jupyter environment, please rerun this cell to show the HTML representation or trust the notebook. <br />On GitHub, the HTML representation is unable to render, please try loading this page with nbviewer.org.</b></div><div class=\"sk-container\" hidden><div class=\"sk-item\"><div class=\"sk-estimator sk-toggleable\"><input class=\"sk-toggleable__control sk-hidden--visually\" id=\"sk-estimator-id-1\" type=\"checkbox\" checked><label for=\"sk-estimator-id-1\" class=\"sk-toggleable__label sk-toggleable__label-arrow\">RandomForestRegressor</label><div class=\"sk-toggleable__content\"><pre>RandomForestRegressor()</pre></div></div></div></div></div>"
      ],
      "text/plain": [
       "RandomForestRegressor()"
      ]
     },
     "execution_count": 41,
     "metadata": {},
     "output_type": "execute_result"
    }
   ],
   "source": [
    "# Training the model\n",
    "# .fit function used to fit our data to this regressive model\n",
    "regressor.fit(X_train, Y_train)"
   ]
  },
  {
   "cell_type": "markdown",
   "metadata": {
    "id": "2JKknBqDNNxO"
   },
   "source": [
    "Now, The Random Forest Regression Model is trained, and I use this trained model to make some predictions."
   ]
  },
  {
   "cell_type": "markdown",
   "metadata": {
    "id": "u_9PpNRhNy2x"
   },
   "source": [
    "4. Model Evaluation"
   ]
  },
  {
   "cell_type": "code",
   "execution_count": 42,
   "metadata": {
    "executionInfo": {
     "elapsed": 36,
     "status": "ok",
     "timestamp": 1630668142128,
     "user": {
      "displayName": "Swati Gulati",
      "photoUrl": "https://lh3.googleusercontent.com/a-/AOh14GjF_mn52f5ElOy7WNuOFascP1dAXfkVCYijZNRRmA=s64",
      "userId": "06925972998601594765"
     },
     "user_tz": -330
    },
    "id": "ZtelvWRKLY75"
   },
   "outputs": [],
   "source": [
    "# Prediction on test data\n",
    "text_data_prediction = regressor.predict(X_test)"
   ]
  },
  {
   "cell_type": "code",
   "execution_count": 43,
   "metadata": {
    "colab": {
     "base_uri": "https://localhost:8080/"
    },
    "executionInfo": {
     "elapsed": 38,
     "status": "ok",
     "timestamp": 1630668142131,
     "user": {
      "displayName": "Swati Gulati",
      "photoUrl": "https://lh3.googleusercontent.com/a-/AOh14GjF_mn52f5ElOy7WNuOFascP1dAXfkVCYijZNRRmA=s64",
      "userId": "06925972998601594765"
     },
     "user_tz": -330
    },
    "id": "EqF4V-iWOn-V",
    "outputId": "d3cca54e-3893-495b-e6e3-878776c17476"
   },
   "outputs": [
    {
     "data": {
      "text/plain": [
       "array([168.56699924,  82.0977997 , 116.14990032, 127.50940052,\n",
       "       120.65910117, 154.46679714, 150.1840985 , 126.22870003,\n",
       "       117.62969875, 125.95640084, 116.5569006 , 171.61400084,\n",
       "       141.40209772, 167.85789879, 114.87780002, 117.84110047,\n",
       "       139.12040301, 170.07150093, 158.78010278, 162.00549963,\n",
       "       155.07220008, 125.15790016, 176.71649896, 156.92360324,\n",
       "       125.16340062,  93.90589981,  77.03750012, 120.74190012,\n",
       "       119.07839909, 167.42739972,  87.98450051, 125.2840002 ,\n",
       "        91.19180079, 117.73810014, 121.04939929, 135.93390115,\n",
       "       115.79310134, 115.69870055, 149.33829957, 107.16710121,\n",
       "       103.7535023 ,  87.23999763, 126.55230048, 117.95859952,\n",
       "       152.93409898, 119.56270018, 108.40209997, 107.89159839,\n",
       "        93.34370067, 127.02369788,  75.47790025, 113.69449913,\n",
       "       121.32090008, 111.16549915, 118.77779881, 120.49399959,\n",
       "       159.76549995, 166.46610154, 146.89799651,  85.80219841,\n",
       "        94.18960038,  86.91359861,  90.55920034, 119.02180095,\n",
       "       126.43420034, 127.43600025, 168.5770996 , 122.32909928,\n",
       "       117.43789895,  98.44640043, 168.4714023 , 143.51349875,\n",
       "       131.98320219, 121.27170221, 121.3162993 , 119.73240069,\n",
       "       114.64260145, 118.17900052, 107.16790084, 127.8802007 ,\n",
       "       113.84689984, 107.73199967, 116.94070068, 119.64769884,\n",
       "        88.80740012,  88.24709876, 146.79020233, 127.11519941,\n",
       "       113.49490014, 110.27969851, 108.10639886,  77.19409896,\n",
       "       169.28230266, 114.07519915, 121.63529918, 127.75430185,\n",
       "       154.86949844,  91.5920993 , 135.30570084, 159.45820276,\n",
       "       125.43960074, 125.59600052, 130.81440156, 115.106801  ,\n",
       "       119.78439979,  92.16429951, 110.14999878, 166.57039934,\n",
       "       157.47499877, 114.20839923, 106.45680155,  79.30959968,\n",
       "       113.27620035, 125.84470059, 107.47599921, 119.39080094,\n",
       "       155.90280319, 159.94209898, 120.25629984, 134.32360208,\n",
       "       101.90769968, 117.61399785, 119.33260052, 112.93960075,\n",
       "       102.77869889, 160.04759712,  98.76530062, 148.87319887,\n",
       "       125.78420099, 169.20339953, 125.79219881, 127.41709707,\n",
       "       127.35450213, 113.64719955, 112.92250053, 123.61799913,\n",
       "       102.1085991 ,  89.14520002, 124.55469959, 101.80329918,\n",
       "       107.00119901, 113.41100058, 117.33320032,  99.07939972,\n",
       "       121.50860063, 163.83439859,  87.34939852, 106.96799977,\n",
       "       117.31650055, 127.80270071, 124.1595008 ,  80.77869904,\n",
       "       120.16040076, 157.82669806,  87.92959954, 110.46089949,\n",
       "       118.77559929, 172.59749883, 103.02009914, 105.3821005 ,\n",
       "       122.32910049, 157.81109789,  87.64179836,  93.17930046,\n",
       "       112.76220027, 177.50229939, 114.27829978, 119.31240027,\n",
       "        94.68150091, 125.87850012, 166.17230081, 114.99070049,\n",
       "       117.02770129,  88.27719873, 148.6509007 , 120.33919958,\n",
       "        89.60049993, 111.8641    , 116.9737003 , 118.87830105,\n",
       "        88.06649932,  94.24499995, 116.86940033, 118.61910212,\n",
       "       120.24340051, 126.7440981 , 121.92099986, 150.16570024,\n",
       "       165.28570023, 118.55069957, 120.54770128, 150.70710052,\n",
       "       118.22429934, 173.10359931, 104.87139932, 105.00840102,\n",
       "       148.89820066, 113.69530088, 124.79810118, 147.94739932,\n",
       "       119.69910115, 115.47640082, 111.75469996, 113.31830212,\n",
       "       140.51200083, 117.89139764, 102.99760033, 115.78840125,\n",
       "       103.19850162,  98.80370058, 117.47520068,  90.68750003,\n",
       "        91.63700014, 153.53339896, 102.69369978, 154.44270104,\n",
       "       114.41620185, 138.95210115,  90.23789796, 115.50109984,\n",
       "       114.4674995 , 123.13490051, 121.7394002 , 165.29580184,\n",
       "        92.91439965, 135.40190123, 121.3596993 , 120.71190033,\n",
       "       104.76700025, 140.82470279, 122.23019919, 116.65180048,\n",
       "       113.56080087, 127.0332973 , 122.1975997 , 125.76299931,\n",
       "       121.26020021,  86.886999  , 132.55470124, 145.4685019 ,\n",
       "        92.71719973, 156.62619961, 158.7863024 , 126.15109915,\n",
       "       164.90629946, 108.99099948, 109.83890076, 103.6221981 ,\n",
       "        94.125501  , 127.84210278, 106.93970048, 160.32220012,\n",
       "       121.54570053, 131.91740044, 130.52390139, 160.12430034,\n",
       "        90.19419844, 175.08410287, 127.89430076, 126.70229864,\n",
       "        86.38209929, 124.5625989 , 150.44409739,  89.64100011,\n",
       "       107.00639976, 108.98739989,  84.11009907, 136.65659999,\n",
       "       154.92310319, 137.90590367,  73.67050029, 151.7098009 ,\n",
       "       126.12489997, 126.82549981, 127.53049901, 108.53009952,\n",
       "       156.34690008, 114.65440079, 116.94210145, 125.27719977,\n",
       "       153.99210142, 121.20089985, 156.44189853,  93.0020004 ,\n",
       "       125.53760119, 125.6750005 ,  87.81310002,  92.17359907,\n",
       "       126.18569941, 128.4775039 , 113.32900061, 117.53819759,\n",
       "       120.92339978, 126.99369754, 119.67760125, 136.42720097,\n",
       "        93.99119943, 119.73410037, 112.89710086,  94.28979949,\n",
       "       108.81259977,  87.22459911, 109.37589945,  89.72879964,\n",
       "        92.38190043, 131.75140367, 162.23120068,  89.53400002,\n",
       "       119.57620077, 133.40840183, 123.67630011, 128.48580253,\n",
       "       101.92099853,  89.09099846, 131.53710103, 119.99320056,\n",
       "       108.66339986, 168.62670139, 115.24590015,  86.57269915,\n",
       "       118.8848004 ,  90.99039973, 161.79500025, 116.59770053,\n",
       "       121.43229983, 160.24579784, 120.22769933, 113.05279942,\n",
       "       108.50149862, 126.57109974,  76.31409981, 102.96559986,\n",
       "       127.69400256, 121.53809944,  92.62510039, 131.81530035,\n",
       "       117.93480123, 115.83679989, 154.60990289, 158.26370057,\n",
       "       109.85339967, 156.83929834, 119.22220081, 160.48320059,\n",
       "       118.39160059, 158.53989954, 115.03859921, 116.4740001 ,\n",
       "       149.14019915, 114.82910055, 125.22689893, 165.58849928,\n",
       "       117.56240002, 125.07629953, 153.37180355, 153.46150265,\n",
       "       132.01660039, 114.83740026, 121.30310173, 124.97410078,\n",
       "        89.58500055, 122.96990002, 155.25540158, 111.71690025,\n",
       "       106.75629973, 161.84780157, 118.5419998 , 165.56619962,\n",
       "       134.04360154, 114.60569979, 153.03499951, 168.7166995 ,\n",
       "       115.13379989, 113.98220127, 158.3967992 ,  85.206299  ,\n",
       "       127.1863006 , 127.98850098, 128.69799963, 124.20090055,\n",
       "       123.96320072,  90.37640048, 153.17189942,  97.10029986,\n",
       "       138.55319964,  89.23709939, 107.58689973, 115.13220035,\n",
       "       112.87800059, 124.3947991 ,  91.42139862, 125.20240086,\n",
       "       162.40059888, 119.83809925, 164.99950132, 126.86429812,\n",
       "       112.4233002 , 127.49789957,  94.627999  ,  90.85490013,\n",
       "       102.73969893, 120.82009991,  83.15829943, 126.42790039,\n",
       "       159.80980446, 117.18200105, 118.27159984, 120.12269982,\n",
       "       122.70399975, 120.16540136, 121.36680054, 118.33100057,\n",
       "       106.92210004, 148.02239983, 126.53759807, 115.75660072,\n",
       "        73.77150034, 127.85400113, 154.39690103, 122.89060014,\n",
       "       125.60360077,  88.92580016, 103.63159884, 124.59320063,\n",
       "       120.18300033,  73.14300092, 152.24459989, 121.08600009,\n",
       "       104.74189991,  86.80289799, 115.03459914, 172.21289843,\n",
       "       119.70400031, 160.09229853, 113.22009968, 121.1414998 ,\n",
       "       118.55590153,  95.97979983, 118.52620046, 125.70920023,\n",
       "       118.46719982,  95.80780014, 153.77240132, 121.94869986,\n",
       "       147.48739969, 158.95100253, 113.73780034, 122.4784995 ,\n",
       "       150.71659856, 127.03360031, 165.95890079, 135.35450047,\n",
       "       119.80919912, 167.76929925, 108.28559929, 121.46569871,\n",
       "       139.17500141, 106.82109901])"
      ]
     },
     "execution_count": 43,
     "metadata": {},
     "output_type": "execute_result"
    }
   ],
   "source": [
    "text_data_prediction"
   ]
  },
  {
   "cell_type": "code",
   "execution_count": 44,
   "metadata": {
    "colab": {
     "base_uri": "https://localhost:8080/"
    },
    "executionInfo": {
     "elapsed": 34,
     "status": "ok",
     "timestamp": 1630668142132,
     "user": {
      "displayName": "Swati Gulati",
      "photoUrl": "https://lh3.googleusercontent.com/a-/AOh14GjF_mn52f5ElOy7WNuOFascP1dAXfkVCYijZNRRmA=s64",
      "userId": "06925972998601594765"
     },
     "user_tz": -330
    },
    "id": "J0sV69lfOvAj",
    "outputId": "78026be2-f464-481f-83d1-66bf70304a7f"
   },
   "outputs": [
    {
     "name": "stdout",
     "output_type": "stream",
     "text": [
      "R scored error :  0.9894681435207187\n"
     ]
    }
   ],
   "source": [
    "# R-squared is a statistical measure of how close the data are to the fitted regression line.\n",
    "error_score = metrics.r2_score(Y_test, text_data_prediction)\n",
    "print(\"R scored error : \", error_score)"
   ]
  },
  {
   "cell_type": "markdown",
   "metadata": {
    "id": "5pD594pgiq6x"
   },
   "source": [
    "Compare the Actual Values & Predicted Values in a Plot"
   ]
  },
  {
   "cell_type": "code",
   "execution_count": 45,
   "metadata": {
    "executionInfo": {
     "elapsed": 28,
     "status": "ok",
     "timestamp": 1630668142133,
     "user": {
      "displayName": "Swati Gulati",
      "photoUrl": "https://lh3.googleusercontent.com/a-/AOh14GjF_mn52f5ElOy7WNuOFascP1dAXfkVCYijZNRRmA=s64",
      "userId": "06925972998601594765"
     },
     "user_tz": -330
    },
    "id": "ANC6NvXQP6XH"
   },
   "outputs": [],
   "source": [
    "Y_test = list(Y_test)"
   ]
  },
  {
   "cell_type": "code",
   "execution_count": 46,
   "metadata": {
    "colab": {
     "base_uri": "https://localhost:8080/",
     "height": 312
    },
    "executionInfo": {
     "elapsed": 29,
     "status": "ok",
     "timestamp": 1630668142135,
     "user": {
      "displayName": "Swati Gulati",
      "photoUrl": "https://lh3.googleusercontent.com/a-/AOh14GjF_mn52f5ElOy7WNuOFascP1dAXfkVCYijZNRRmA=s64",
      "userId": "06925972998601594765"
     },
     "user_tz": -330
    },
    "id": "fA4jgk3Bi9nH",
    "outputId": "75df1206-b815-4608-f2ed-7e8805f27cbf"
   },
   "outputs": [
    {
     "data": {
      "image/png": "[encoded data removed]",
      "text/plain": [
       "<Figure size 640x480 with 1 Axes>"
      ]
     },
     "metadata": {},
     "output_type": "display_data"
    },
    {
     "data": {
      "text/plain": [
       "<Figure size 1500x1500 with 0 Axes>"
      ]
     },
     "metadata": {},
     "output_type": "display_data"
    }
   ],
   "source": [
    "plt.plot(Y_test, color = 'Blue', label = \"Actual Values\")                                   #Real Values\n",
    "plt.plot(text_data_prediction, color = 'Green', label = \"Predicted Values\")                 #Predicted Values\n",
    "plt.title(\"Actual Values vs Predicted Values\")\n",
    "plt.xlabel(\"Number Of Values\")\n",
    "plt.ylabel(\"GLD Price\")\n",
    "# plt.legend()\n",
    "plt.figure(figsize = (15, 15))\n",
    "plt.show()"
   ]
  },
  {
   "cell_type": "markdown",
   "metadata": {
    "id": "u1pFvsO_fWxp"
   },
   "source": [
    "* R scored error: 0.98, which is very good.\n",
    "* As I compare actual values and predicted values are very close to each other."
   ]
  }
 ],
 "metadata": {
  "colab": {
   "authorship_tag": "ABX9TyMImObuTcDdcnmpNny1MZ/I",
   "collapsed_sections": [],
   "name": "Gold Price Prediction.ipynb",
   "provenance": []
  },
  "kernelspec": {
   "display_name": "Python 3 (ipykernel)",
   "language": "python",
   "name": "python3"
  },
  "language_info": {
   "codemirror_mode": {
    "name": "ipython",
    "version": 3
   },
   "file_extension": ".py",
   "mimetype": "text/x-python",
   "name": "python",
   "nbconvert_exporter": "python",
   "pygments_lexer": "ipython3",
   "version": "3.11.4"
  }
 },
 "nbformat": 4,
 "nbformat_minor": 4
}
